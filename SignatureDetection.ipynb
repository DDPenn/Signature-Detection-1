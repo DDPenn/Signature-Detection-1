{
 "cells": [
  {
   "cell_type": "code",
   "execution_count": 31,
   "metadata": {},
   "outputs": [],
   "source": [
    "import cv2 \n",
    "import numpy as np\n",
    "import os\n",
    "from pdf2image import convert_from_path\n",
    "import pytesseract\n",
    "import PIL\n",
    "from PIL import Image\n",
    "import pandas as pd\n",
    "import time\n",
    "pytesseract.pytesseract.tesseract_cmd = r\"C:\\Program Files (x86)\\Tesseract-OCR\\tesseract.exe\"\n",
    "import matplotlib.pyplot as plt\n",
    "from matplotlib.pyplot import imshow\n",
    "%matplotlib inline"
   ]
  },
  {
   "cell_type": "code",
   "execution_count": 32,
   "metadata": {},
   "outputs": [],
   "source": [
    "croppedImagePath = \"D:\\\\Anaconda3\\\\Scripts\\Shitiz\\\\SignatureObjectDetection\\\\croppedImages\\\\\" "
   ]
  },
  {
   "cell_type": "code",
   "execution_count": 33,
   "metadata": {},
   "outputs": [],
   "source": [
    "#Dimentions of the signature box which is expected to haver a \n",
    "\n",
    "def SaveCroppedSigImages(imagePath):\n",
    "    \n",
    "    signatureAboveRows = None\n",
    "    signatureImage = Image.open(filePath)\n",
    "    fileInfo = pytesseract.image_to_data(signatureImage,lang='eng', output_type='data.frame')\n",
    "    fileInfo = fileInfo.replace(np.nan, '', regex=True)\n",
    "    \n",
    "    # Format1 Check\n",
    "    savedCroppedImages = SaveIfFormat1Type(fileInfo, signatureImage)\n",
    "    return savedCroppedImages"
   ]
  },
  {
   "cell_type": "code",
   "execution_count": 34,
   "metadata": {},
   "outputs": [],
   "source": [
    "def PreprocessedImageList(imagePath):\n",
    "    # Load an color image in grayscale\n",
    "    img = cv2.imread(imagePath, cv2.IMREAD_GRAYSCALE)\n",
    "    #cv2.imshow('MedianImage', img)\n",
    "    kernel = np.ones((3,3), np.uint8)\n",
    "    img_erosion = cv2.erode(img, kernel, iterations=1)\n",
    "    return img_erosion"
   ]
  },
  {
   "cell_type": "code",
   "execution_count": 35,
   "metadata": {},
   "outputs": [],
   "source": [
    "#Check Format1 - DocuSigned\n",
    "def SaveIfFormat1Type(fileInfo, signatureImage):\n",
    "    docuSigByBoxL = 500\n",
    "    docuSigByBoxB = 90\n",
    "    signBoxB = 0 \n",
    "    signBoxL = 0\n",
    "    \n",
    "    signatureRows = fileInfo[fileInfo['text'] == 'DocuSigned']\n",
    "    if not len(signatureRows) > 0:\n",
    "        return False\n",
    "    else:\n",
    "        for index in range(len(signatureRows)):\n",
    "            if ((signatureRows.iloc[index])['text'] == 'DocuSigned'):\n",
    "                signBoxB = docuSigByBoxB\n",
    "                signBoxL = docuSigByBoxL\n",
    "                x1,y1,x2,y2 = ((signatureRows.iloc[index])['left'] - 50, \n",
    "                                (signatureRows.iloc[index])['top'] + (signatureRows.iloc[index])['height'] - 2, \n",
    "                                (signatureRows.iloc[index])['left'] + docuSigByBoxL,  \n",
    "                                (signatureRows.iloc[index])['top'] + (signatureRows.iloc[index])['height'] + docuSigByBoxB)\n",
    "                croppedImage = signatureImage.crop((x1,y1,x2,y2))\n",
    "                croppedImage.show()\n",
    "                fileName = croppedImagePath + str(index) +\".jpg\"\n",
    "                croppedImage.save(fileName)\n",
    "        return True"
   ]
  },
  {
   "cell_type": "code",
   "execution_count": 36,
   "metadata": {},
   "outputs": [],
   "source": [
    "def IsDocSigned():\n",
    "    \n",
    "    isSigned = False\n",
    "    imageFilesList = []\n",
    "    signatureBoundrySigned = []\n",
    "    \n",
    "    for r, d, f in os.walk(croppedImagePath):\n",
    "        for file in f:\n",
    "            if '.jpg' in file:\n",
    "                imageFilesList.append(os.path.join(r, file))\n",
    "            \n",
    "    for filePath in imageFilesList:\n",
    "        img_median = PreprocessedImageList(filePath)\n",
    "\n",
    "        #Step2 - SEGMENTATION\n",
    "        \n",
    "        #Connected Component Labelling, Rectangle fitting & area-based filtering\n",
    "        ret1, thresh = cv2.threshold(img_median, 127, 255, 0)\n",
    "        ret, connectedLabels = cv2.connectedComponents(thresh,connectivity = 4)\n",
    "        \n",
    "        # find contours\n",
    "        contours, hierarchy = cv2.findContours(connectedLabels, cv2.RETR_CCOMP, cv2.CHAIN_APPROX_SIMPLE)\n",
    "        mask = np.zeros(thresh.shape, np.uint8)\n",
    "        \n",
    "        counter = 0\n",
    "        # filter contours\n",
    "        for idx in range(0, len(hierarchy[0])):\n",
    "            rect = x, y, rect_width, rect_height = cv2.boundingRect(contours[idx])\n",
    "            \n",
    "            # fill the contour\n",
    "            mask = cv2.drawContours(mask, contours, idx, (150, 255, 255), cv2.FILLED)\n",
    "            \n",
    "            # ratio of non-zero pixels in the filled region\n",
    "            r = float(cv2.countNonZero(mask)) / (rect_width * rect_height)\n",
    "            if r > 0.45 and rect_height > 25 and rect_width > 25:\n",
    "                rgb = cv2.rectangle(thresh , (x, y+rect_height), (x+rect_width, y), (0,255,0),1)\n",
    "                counter = counter + 1\n",
    "                isSigned = True\n",
    "        if counter > 1:\n",
    "            signatureBoundrySigned.append('Signed')\n",
    "            segmented_Image = Image.fromarray(rgb)\n",
    "            #segmented_Image.show()\n",
    "            plt.figure()\n",
    "            plt.imshow(segmented_Image)\n",
    "        else:\n",
    "            signatureBoundrySigned.append('Not Signed')\n",
    "    \n",
    "    for r, d, f in os.walk(croppedImagePath):\n",
    "        for file in f:\n",
    "            if '.jpg' in file:\n",
    "                os.remove(os.path.join(r, file))\n",
    "    return signatureBoundrySigned"
   ]
  },
  {
   "cell_type": "code",
   "execution_count": 38,
   "metadata": {
    "scrolled": false
   },
   "outputs": [
    {
     "name": "stdout",
     "output_type": "stream",
     "text": [
      "Signed-Signed\n"
     ]
    },
    {
     "data": {
      "image/png": "[encoded data removed]",
      "text/plain": [
       "<Figure size 432x288 with 1 Axes>"
      ]
     },
     "metadata": {
      "needs_background": "light"
     },
     "output_type": "display_data"
    },
    {
     "data": {
      "image/png": "[encoded data removed]",
      "text/plain": [
       "<Figure size 432x288 with 1 Axes>"
      ]
     },
     "metadata": {
      "needs_background": "light"
     },
     "output_type": "display_data"
    }
   ],
   "source": [
    "filePath = r'D:\\Shitiz\\Sig Formats\\Done\\DocuSignedBy\\2018-11-07_SOW_BADabstract.pdf.jpg'\n",
    "if (SaveCroppedSigImages(filePath)):\n",
    "    a = IsDocSigned()\n",
    "    print('-'.join(a) )\n",
    "else:\n",
    "    print('Not Signed')"
   ]
  },
  {
   "cell_type": "code",
   "execution_count": null,
   "metadata": {},
   "outputs": [],
   "source": []
  }
 ],
 "metadata": {
  "kernelspec": {
   "display_name": "Python 3",
   "language": "python",
   "name": "python3"
  },
  "language_info": {
   "codemirror_mode": {
    "name": "ipython",
    "version": 3
   },
   "file_extension": ".py",
   "mimetype": "text/x-python",
   "name": "python",
   "nbconvert_exporter": "python",
   "pygments_lexer": "ipython3",
   "version": "3.7.3"
  }
 },
 "nbformat": 4,
 "nbformat_minor": 2
}
